{
 "cells": [
  {
   "cell_type": "code",
   "execution_count": 1,
   "id": "c5fe26cc-e19b-4ea3-bbea-e3ed95571b40",
   "metadata": {},
   "outputs": [],
   "source": [
    "# Reproducible Analysis\n",
    "\n",
    "## CASA0013: Foundations of Spatial Data Science\n",
    "\n",
    "### Student Ids: ucfnlui, ucftYYYY, etc."
   ]
  },
  {
   "cell_type": "code",
   "execution_count": 2,
   "id": "8211e35e-c597-4f94-957e-9ab35717b68b",
   "metadata": {},
   "outputs": [],
   "source": [
    "### ucfnlui code:"
   ]
  },
  {
   "cell_type": "code",
   "execution_count": 3,
   "id": "b63aa46b-c148-4a5e-acd8-e4ef3e812069",
   "metadata": {},
   "outputs": [
    {
     "name": "stdout",
     "output_type": "stream",
     "text": [
      "start from here\n"
     ]
    }
   ],
   "source": [
    "print(\"start from here\")"
   ]
  },
  {
   "cell_type": "code",
   "execution_count": 4,
   "id": "15053429-7209-4c61-b9d8-34fd7c78e687",
   "metadata": {},
   "outputs": [],
   "source": [
    "### ucfniul code:"
   ]
  },
  {
   "cell_type": "code",
   "execution_count": 5,
   "id": "54b326a6-2252-48f6-80e8-5b76ef4480f5",
   "metadata": {},
   "outputs": [
    {
     "name": "stdout",
     "output_type": "stream",
     "text": [
      "start from here\n"
     ]
    }
   ],
   "source": [
    "print(\"start from here\")"
   ]
  },
  {
   "cell_type": "code",
   "execution_count": 6,
   "id": "8d6a2682-315e-4bdc-899e-eb875f624ac7",
   "metadata": {},
   "outputs": [],
   "source": [
    "### ucfnply code:"
   ]
  },
  {
   "cell_type": "code",
   "execution_count": 7,
   "id": "9cfc8342-611e-4257-be8b-2d42e9be69fb",
   "metadata": {},
   "outputs": [],
   "source": [
    "# Set the package \n",
    "import os\n",
    "import numpy as np\n",
    "import pandas as pd\n",
    "import geopandas as gpd\n",
    "from requests import get\n",
    "from urllib.parse import urlparse"
   ]
  },
  {
   "cell_type": "code",
   "execution_count": 8,
   "id": "fa4482bb-d039-4506-96f7-2da6d33923f2",
   "metadata": {},
   "outputs": [],
   "source": [
    "# Network address of the required data\n",
    "url_Sep  = f'http://data.insideairbnb.com/united-kingdom/england/london/2022-09-10/data/listings.csv.gz'\n",
    "url_Jun  = f'http://data.insideairbnb.com/united-kingdom/england/london/2022-06-07/data/listings.csv.gz'\n",
    "url_Mar  = f'http://data.insideairbnb.com/united-kingdom/england/london/2022-03-09/data/listings.csv.gz'"
   ]
  },
  {
   "cell_type": "code",
   "execution_count": 9,
   "id": "d3f02f7b-74e2-4cc8-8be0-b7b90c0bcfa8",
   "metadata": {},
   "outputs": [],
   "source": [
    "# Set the columns needed to be focused on\n",
    "cols = ['id','host_id','price',  \n",
    "        'latitude', 'longitude', \n",
    "        'availability_90','has_availability']"
   ]
  },
  {
   "cell_type": "code",
   "execution_count": 10,
   "id": "40c02480-d485-434b-aa65-b991ec34307b",
   "metadata": {},
   "outputs": [
    {
     "name": "stdout",
     "output_type": "stream",
     "text": [
      "Data frame is 69,351 x 7\n",
      "Data frame is 66,152 x 7\n",
      "Data frame is 66,632 x 7\n"
     ]
    }
   ],
   "source": [
    "# Read the required data\n",
    "df_Sep = pd.read_csv(url_Sep, compression='gzip', \n",
    "                low_memory=False, usecols=cols)\n",
    "\n",
    "df_Jun = pd.read_csv(url_Jun, compression='gzip',\n",
    "                low_memory=False, usecols=cols)\n",
    "\n",
    "df_Mar = pd.read_csv(url_Mar, compression='gzip',\n",
    "                low_memory=False, usecols=cols)\n",
    "\n",
    "# View the number of rows and columns of data\n",
    "print(f\"Data frame is {df_Sep.shape[0]:,} x {df_Sep.shape[1]}\")\n",
    "print(f\"Data frame is {df_Jun.shape[0]:,} x {df_Jun.shape[1]}\")\n",
    "print(f\"Data frame is {df_Mar.shape[0]:,} x {df_Mar.shape[1]}\")"
   ]
  },
  {
   "cell_type": "code",
   "execution_count": 11,
   "id": "b8a54429-5a6e-499b-bd47-ab0c2da00afd",
   "metadata": {},
   "outputs": [
    {
     "name": "stdout",
     "output_type": "stream",
     "text": [
      "Data frame is 69,351 x 7\n",
      "Data frame is 66,152 x 7\n",
      "Data frame is 66,632 x 7\n"
     ]
    }
   ],
   "source": [
    "# Filter out the data that is NAN in each column and delete the row it is in\n",
    "df_Sep.drop(df_Sep[df_Sep.id.isna()].index.array, axis=0, inplace=True)\n",
    "df_Jun.drop(df_Jun[df_Jun.id.isna()].index.array, axis=0, inplace=True)\n",
    "df_Mar.drop(df_Mar[df_Mar.id.isna()].index.array, axis=0, inplace=True)\n",
    "\n",
    "df_Sep.drop(df_Sep[df_Sep.host_id.isna()].index.array, axis=0, inplace=True)\n",
    "df_Jun.drop(df_Jun[df_Jun.host_id.isna()].index.array, axis=0, inplace=True)\n",
    "df_Mar.drop(df_Mar[df_Mar.host_id.isna()].index.array, axis=0, inplace=True)\n",
    "\n",
    "df_Sep.drop(df_Sep[df_Sep.price.isna()].index.array, axis=0, inplace=True)\n",
    "df_Jun.drop(df_Jun[df_Jun.price.isna()].index.array, axis=0, inplace=True)\n",
    "df_Mar.drop(df_Mar[df_Mar.price.isna()].index.array, axis=0, inplace=True)\n",
    "\n",
    "df_Sep.drop(df_Sep[df_Sep.availability_90.isna()].index.array, axis=0, inplace=True)\n",
    "df_Jun.drop(df_Jun[df_Jun.availability_90.isna()].index.array, axis=0, inplace=True)\n",
    "df_Mar.drop(df_Mar[df_Mar.availability_90.isna()].index.array, axis=0, inplace=True)\n",
    "\n",
    "df_Sep.drop(df_Sep[df_Sep.has_availability.isna()].index.array, axis=0, inplace=True)\n",
    "df_Jun.drop(df_Jun[df_Jun.has_availability.isna()].index.array, axis=0, inplace=True)\n",
    "df_Mar.drop(df_Mar[df_Mar.has_availability.isna()].index.array, axis=0, inplace=True)\n",
    "\n",
    "df_Sep.drop(df_Sep[df_Sep.latitude.isna()].index.array, axis=0, inplace=True)\n",
    "df_Jun.drop(df_Jun[df_Jun.latitude.isna()].index.array, axis=0, inplace=True)\n",
    "df_Mar.drop(df_Mar[df_Mar.latitude.isna()].index.array, axis=0, inplace=True)\n",
    "\n",
    "df_Sep.drop(df_Sep[df_Sep.longitude.isna()].index.array, axis=0, inplace=True)\n",
    "df_Jun.drop(df_Jun[df_Jun.longitude.isna()].index.array, axis=0, inplace=True)\n",
    "df_Mar.drop(df_Mar[df_Mar.longitude.isna()].index.array, axis=0, inplace=True)\n",
    "\n",
    "# Check the number of rows and columns of filtered data\n",
    "print(f\"Data frame is {df_Sep.shape[0]:,} x {df_Sep.shape[1]}\")\n",
    "print(f\"Data frame is {df_Jun.shape[0]:,} x {df_Jun.shape[1]}\")\n",
    "print(f\"Data frame is {df_Mar.shape[0]:,} x {df_Mar.shape[1]}\")"
   ]
  },
  {
   "cell_type": "code",
   "execution_count": 12,
   "id": "0fb93a2e-802d-42e5-a3f4-91c98335c7ef",
   "metadata": {},
   "outputs": [
    {
     "data": {
      "text/plain": [
       "id                  0\n",
       "host_id             0\n",
       "latitude            0\n",
       "longitude           0\n",
       "price               0\n",
       "has_availability    0\n",
       "availability_90     0\n",
       "dtype: int64"
      ]
     },
     "execution_count": 12,
     "metadata": {},
     "output_type": "execute_result"
    }
   ],
   "source": [
    "# Check the number NULL in each column\n",
    "df_Sep.isnull().sum(axis=0).sort_values(ascending=False)"
   ]
  },
  {
   "cell_type": "code",
   "execution_count": 13,
   "id": "2804a150-bae5-44ab-8a00-5b890e0b00bc",
   "metadata": {},
   "outputs": [
    {
     "data": {
      "text/plain": [
       "id                  0\n",
       "host_id             0\n",
       "latitude            0\n",
       "longitude           0\n",
       "price               0\n",
       "has_availability    0\n",
       "availability_90     0\n",
       "dtype: int64"
      ]
     },
     "execution_count": 13,
     "metadata": {},
     "output_type": "execute_result"
    }
   ],
   "source": [
    "# Check the number NULL in each column\n",
    "df_Jun.isnull().sum(axis=0).sort_values(ascending=False)"
   ]
  },
  {
   "cell_type": "code",
   "execution_count": 14,
   "id": "960502d4-4661-41a2-9964-4ea67d585199",
   "metadata": {},
   "outputs": [
    {
     "data": {
      "text/plain": [
       "id                  0\n",
       "host_id             0\n",
       "latitude            0\n",
       "longitude           0\n",
       "price               0\n",
       "has_availability    0\n",
       "availability_90     0\n",
       "dtype: int64"
      ]
     },
     "execution_count": 14,
     "metadata": {},
     "output_type": "execute_result"
    }
   ],
   "source": [
    "# Check the number NULL in each column\n",
    "df_Mar.isnull().sum(axis=0).sort_values(ascending=False)"
   ]
  },
  {
   "cell_type": "code",
   "execution_count": 15,
   "id": "62b6a125-047b-4232-8df4-c89b82ab4173",
   "metadata": {},
   "outputs": [
    {
     "data": {
      "text/plain": [
       "0        0\n",
       "46239    0\n",
       "46225    0\n",
       "46226    0\n",
       "46227    0\n",
       "dtype: int64"
      ]
     },
     "execution_count": 15,
     "metadata": {},
     "output_type": "execute_result"
    }
   ],
   "source": [
    "# Check the number of NULL in each row\n",
    "df_Sep.isnull().sum(axis=1).sort_values(ascending=False).head(5)"
   ]
  },
  {
   "cell_type": "code",
   "execution_count": 16,
   "id": "506366e6-6a0b-4e96-94c4-fc544dfb90b9",
   "metadata": {},
   "outputs": [
    {
     "data": {
      "text/plain": [
       "0        0\n",
       "44122    0\n",
       "44092    0\n",
       "44093    0\n",
       "44094    0\n",
       "dtype: int64"
      ]
     },
     "execution_count": 16,
     "metadata": {},
     "output_type": "execute_result"
    }
   ],
   "source": [
    "# Check the number of NULL in each row\n",
    "df_Jun.isnull().sum(axis=1).sort_values(ascending=False).head(5)"
   ]
  },
  {
   "cell_type": "code",
   "execution_count": 17,
   "id": "d14edfca-ce57-4f0a-a251-ee7a6789529c",
   "metadata": {},
   "outputs": [
    {
     "data": {
      "text/plain": [
       "0        0\n",
       "44411    0\n",
       "44413    0\n",
       "44414    0\n",
       "44415    0\n",
       "dtype: int64"
      ]
     },
     "execution_count": 17,
     "metadata": {},
     "output_type": "execute_result"
    }
   ],
   "source": [
    "# Check the number of NULL in each row\n",
    "df_Mar.isnull().sum(axis=1).sort_values(ascending=False).head(5)"
   ]
  },
  {
   "cell_type": "code",
   "execution_count": 18,
   "id": "97cc4765-3ccf-4b1a-b42c-cd12f0ee5ac6",
   "metadata": {},
   "outputs": [],
   "source": [
    "# Set the list of data types to be converted\n",
    "bools = ['has_availability']\n",
    "money = ['price']\n",
    "ints  = ['id','host_id','availability_90']"
   ]
  },
  {
   "cell_type": "code",
   "execution_count": 19,
   "id": "0ee918f6-e2cc-4484-9af5-4c8b450a8bf7",
   "metadata": {},
   "outputs": [
    {
     "name": "stdout",
     "output_type": "stream",
     "text": [
      "Converting has_availability\n",
      "Converting price\n",
      "Converting id\n",
      "Converting host_id\n",
      "Converting availability_90\n"
     ]
    }
   ],
   "source": [
    "# Convert the data in 'availabiltiy' to Boolean data\n",
    "for b in bools:\n",
    "    print(f\"Converting {b}\")\n",
    "    df_Sep[b] = df_Sep[b].replace({'f':False, 't':True}).astype('bool')\n",
    "    df_Jun[b] = df_Jun[b].replace({'f':False, 't':True}).astype('bool')\n",
    "    df_Mar[b] = df_Mar[b].replace({'f':False, 't':True}).astype('bool')\n",
    "\n",
    "# Convert the data in 'money' to float data\n",
    "for m in money:\n",
    "    print(f\"Converting {m}\")\n",
    "    df_Sep[m] = df_Sep[m].str.replace('$','', regex=False).str.replace(',','', regex=False).astype('float')\n",
    "    df_Jun[m] = df_Jun[m].str.replace('$','', regex=False).str.replace(',','', regex=False).astype('float')\n",
    "    df_Mar[m] = df_Mar[m].str.replace('$','', regex=False).str.replace(',','', regex=False).astype('float')\n",
    "\n",
    "# Convert the data in 'id', 'host_id' and 'availabiltiy_90' to integer data\n",
    "for i in ints:\n",
    "    print(f\"Converting {i}\")\n",
    "    try:\n",
    "        df_Sep[i] = df_Sep[i].astype('float').astype('int')\n",
    "        df_Jun[i] = df_Jun[i].astype('float').astype('int')\n",
    "        df_Mar[i] = df_Mar[i].astype('float').astype('int')\n",
    "    except ValueError as e:\n",
    "        print(\"  - !!!Converting to unsigned 16-bit integer!!!\")\n",
    "        df_Sep[i] = df_Sep[i].astype('float').astype(pd.UInt16Dtype())\n",
    "        df_Jun[i] = df_Jun[i].astype('float').astype(pd.UInt16Dtype())\n",
    "        df_Mar[i] = df_Mar[i].astype('float').astype(pd.UInt16Dtype())"
   ]
  },
  {
   "cell_type": "code",
   "execution_count": 20,
   "id": "9c7abb1f-ec00-4348-8ed1-1703631a3002",
   "metadata": {},
   "outputs": [],
   "source": [
    "# Set 'reservation' data in df by using the fomula:\n",
    "# the number of reservation= 90 - the number of availability\n",
    "df_Sep['reservation']=90-df_Sep.availability_90\n",
    "df_Jun['reservation']=90-df_Jun.availability_90\n",
    "df_Mar['reservation']=90-df_Mar.availability_90"
   ]
  },
  {
   "cell_type": "code",
   "execution_count": 21,
   "id": "8d37eac0-7a51-4394-969a-c3739e6719ab",
   "metadata": {},
   "outputs": [],
   "source": [
    "# Convert the df from dataframe to geodataframe\n",
    "gdf_Sep = gpd.GeoDataFrame(df_Sep, \n",
    "      geometry=gpd.points_from_xy(df_Sep.longitude, df_Sep.latitude, crs='epsg:4326'))\n",
    "gdf_Jun = gpd.GeoDataFrame(df_Jun, \n",
    "      geometry=gpd.points_from_xy(df_Jun.longitude, df_Jun.latitude, crs='epsg:4326'))\n",
    "gdf_Mar = gpd.GeoDataFrame(df_Mar, \n",
    "      geometry=gpd.points_from_xy(df_Mar.longitude, df_Mar.latitude, crs='epsg:4326'))"
   ]
  },
  {
   "cell_type": "code",
   "execution_count": 22,
   "id": "9c7e7a70-0bba-43f1-817e-12eade119949",
   "metadata": {},
   "outputs": [],
   "source": [
    "# Set the crs and set 'id' as index\n",
    "listings_Sep = gdf_Sep.to_crs(epsg=27700)\n",
    "listings_Jun = gdf_Jun.to_crs(epsg=27700)\n",
    "listings_Mar = gdf_Mar.to_crs(epsg=27700)\n",
    "listings_Sep = listings_Sep.set_index('id')\n",
    "listings_Jun = listings_Jun.set_index('id')\n",
    "listings_Mar = listings_Mar.set_index('id')"
   ]
  },
  {
   "cell_type": "code",
   "execution_count": 23,
   "id": "a43e41b1-443c-49fc-a8eb-fb4fedb6aea3",
   "metadata": {},
   "outputs": [],
   "source": [
    "# read msoas data and set crs\n",
    "msoas = gpd.read_file('http://orca.casa.ucl.ac.uk/~jreades/data/MSOA-2011.gpkg')\n",
    "msoas = msoas.to_crs(epsg=27700)"
   ]
  },
  {
   "cell_type": "code",
   "execution_count": 25,
   "id": "d57d5c19-a780-4ac9-985e-84ffe22bc8b9",
   "metadata": {},
   "outputs": [],
   "source": [
    "# Dividing the London area into five zones\n",
    "mapping = {}\n",
    "for b in ['Enfield','Waltham Forest','Redbridge','Barking and Dagenham','Havering','Greenwich','Bexley']:\n",
    "    mapping[b]='Outer_East_and_North_East'\n",
    "for b in ['Haringey','Islington','Hackney','Tower Hamlets','Newham','Lambeth','Southwark','Lewisham']:\n",
    "    mapping[b]='Inner_East'\n",
    "for b in ['Bromley','Croydon','Sutton','Merton','Kingston upon Thames']:\n",
    "    mapping[b]='Outer_South'\n",
    "for b in ['Wandsworth','Kensington and Chelsea','Hammersmith and Fulham','Westminster','Camden','City of London']:\n",
    "    mapping[b]='Inner_West'\n",
    "for b in ['Richmond upon Thames','Hounslow','Ealing','Hillingdon','Brent','Harrow','Barnet']:\n",
    "    mapping[b]='Outer_West_and_North_West'"
   ]
  },
  {
   "cell_type": "code",
   "execution_count": 26,
   "id": "fda4bffa-d77d-4b24-a6ab-7a02ca728cb1",
   "metadata": {},
   "outputs": [],
   "source": [
    "# Add 'Subregion' data\n",
    "msoas['Subregion'] = msoas.LAD11NM.apply(lambda x: mapping[x])"
   ]
  },
  {
   "cell_type": "code",
   "execution_count": 27,
   "id": "683dbaa2-1209-4675-b397-e7beab86199b",
   "metadata": {},
   "outputs": [],
   "source": [
    "# Combining the datasets \n",
    "msoa_listings_Sep = gpd.sjoin(listings_Sep, msoas.drop(\n",
    "                        columns=['MSOA11NM', 'LAD11CD', 'RGN11CD', 'RGN11NM',\n",
    "                                 'USUALRES', 'HHOLDRES', 'COMESTRES', 'POPDEN', 'HHOLDS', \n",
    "                                 'AVHHOLDSZ']), predicate='within').drop(\n",
    "                        columns=['latitude','longitude','index_right']\n",
    "                )\n",
    "msoa_listings_Jun = gpd.sjoin(listings_Jun, msoas.drop(\n",
    "                        columns=['MSOA11NM', 'LAD11CD', 'RGN11CD', 'RGN11NM',\n",
    "                                 'USUALRES', 'HHOLDRES', 'COMESTRES', 'POPDEN', 'HHOLDS', \n",
    "                                 'AVHHOLDSZ']), predicate='within').drop(\n",
    "                        columns=['latitude','longitude','index_right']\n",
    "                )\n",
    "msoa_listings_Mar = gpd.sjoin(listings_Mar, msoas.drop(\n",
    "                        columns=['MSOA11NM',  'LAD11CD', 'RGN11CD', 'RGN11NM',\n",
    "                                 'USUALRES', 'HHOLDRES', 'COMESTRES', 'POPDEN', 'HHOLDS', \n",
    "                                 'AVHHOLDSZ']), predicate='within').drop(\n",
    "                        columns=['latitude','longitude','index_right']\n",
    "                )"
   ]
  },
  {
   "cell_type": "code",
   "execution_count": 28,
   "id": "b35e82c6-a792-42d7-b1ce-4a301a4553d0",
   "metadata": {},
   "outputs": [
    {
     "data": {
      "text/plain": [
       "68345"
      ]
     },
     "execution_count": 28,
     "metadata": {},
     "output_type": "execute_result"
    }
   ],
   "source": [
    "# The number of listings available in London \n",
    "msoa_listings_Sep.has_availability.sum()"
   ]
  },
  {
   "cell_type": "code",
   "execution_count": 29,
   "id": "c3a7a14b-a794-4074-a6fe-b979f7d86aee",
   "metadata": {},
   "outputs": [
    {
     "data": {
      "text/plain": [
       "Subregion\n",
       "Inner_East                   27663\n",
       "Inner_West                   23865\n",
       "Outer_East_and_North_East     5065\n",
       "Outer_South                   3539\n",
       "Outer_West_and_North_West     8213\n",
       "Name: has_availability, dtype: int64"
      ]
     },
     "execution_count": 29,
     "metadata": {},
     "output_type": "execute_result"
    }
   ],
   "source": [
    "# The number of listings available in every region\n",
    "msoa_listings_Sep.groupby('Subregion').has_availability.sum()"
   ]
  },
  {
   "cell_type": "code",
   "execution_count": 30,
   "id": "a0073594-b68f-4068-a514-5083a151496b",
   "metadata": {},
   "outputs": [
    {
     "data": {
      "text/plain": [
       "Subregion\n",
       "Inner_East                   26694\n",
       "Inner_West                   22627\n",
       "Outer_East_and_North_East     4855\n",
       "Outer_South                   3409\n",
       "Outer_West_and_North_West     7670\n",
       "Name: has_availability, dtype: int64"
      ]
     },
     "execution_count": 30,
     "metadata": {},
     "output_type": "execute_result"
    }
   ],
   "source": [
    "msoa_listings_Jun.groupby('Subregion').has_availability.sum()"
   ]
  },
  {
   "cell_type": "code",
   "execution_count": 31,
   "id": "a52a99be-8956-4fec-ba00-605701645f43",
   "metadata": {},
   "outputs": [
    {
     "data": {
      "text/plain": [
       "Subregion\n",
       "Inner_East                   26653\n",
       "Inner_West                   22399\n",
       "Outer_East_and_North_East     4774\n",
       "Outer_South                   3400\n",
       "Outer_West_and_North_West     7839\n",
       "Name: has_availability, dtype: int64"
      ]
     },
     "execution_count": 31,
     "metadata": {},
     "output_type": "execute_result"
    }
   ],
   "source": [
    "msoa_listings_Mar.groupby('Subregion').has_availability.sum()"
   ]
  },
  {
   "cell_type": "code",
   "execution_count": 32,
   "id": "bf4b1343-9a45-455e-8d17-6d765cd51b72",
   "metadata": {},
   "outputs": [],
   "source": [
    "# Set five region to a list\n",
    "area=['Inner_East','Inner_West','Outer_East_and_North_East', 'Outer_South','Outer_West_and_North_West']"
   ]
  },
  {
   "cell_type": "code",
   "execution_count": 33,
   "id": "beddbe72-0213-44bd-820f-e952da25a116",
   "metadata": {},
   "outputs": [
    {
     "data": {
      "text/plain": [
       "54815"
      ]
     },
     "execution_count": 33,
     "metadata": {},
     "output_type": "execute_result"
    }
   ],
   "source": [
    "# Count the number of listings which has more than 30 reservations in London\n",
    "msoa_listings_Sep.reservation[msoa_listings_Sep.reservation>30].count()"
   ]
  },
  {
   "cell_type": "code",
   "execution_count": 34,
   "id": "25289f69-2483-48af-aa74-ed92ba2c4126",
   "metadata": {},
   "outputs": [
    {
     "name": "stdout",
     "output_type": "stream",
     "text": [
      "23947\n",
      "18764\n",
      "3481\n",
      "2569\n",
      "6054\n"
     ]
    }
   ],
   "source": [
    "# Count the number of listings which has more than 30 reservations in every region\n",
    "for i in area:\n",
    "    print(msoa_listings_Sep[msoa_listings_Sep.Subregion==i].reservation[msoa_listings_Sep.reservation>30].count())"
   ]
  },
  {
   "cell_type": "code",
   "execution_count": 35,
   "id": "78a961dc-ac51-4f65-a3b9-8c26c2643a1e",
   "metadata": {},
   "outputs": [
    {
     "name": "stdout",
     "output_type": "stream",
     "text": [
      "4.74\n",
      "5.04\n"
     ]
    }
   ],
   "source": [
    "# Compute the growth rate of listings available in London\n",
    "print(round((msoa_listings_Sep.has_availability.sum()-msoa_listings_Jun.has_availability.sum())/\n",
    "             msoa_listings_Jun.has_availability.sum()*100,2))\n",
    "\n",
    "print(round((msoa_listings_Sep.has_availability.sum()-msoa_listings_Mar.has_availability.sum())/\n",
    "             msoa_listings_Mar.has_availability.sum()*100,2))"
   ]
  },
  {
   "cell_type": "code",
   "execution_count": 36,
   "id": "17e199dd-cffa-4934-900c-c7d0afd56223",
   "metadata": {},
   "outputs": [
    {
     "name": "stdout",
     "output_type": "stream",
     "text": [
      "3.63\n",
      "5.47\n",
      "4.33\n",
      "3.81\n",
      "7.08\n"
     ]
    }
   ],
   "source": [
    "# Compute the growth rate of listings available from Jun to Sep 2022 in every region\n",
    "for i in area:\n",
    "    print(round((msoa_listings_Sep.groupby('Subregion').has_availability.sum()[i]-msoa_listings_Jun.groupby('Subregion').has_availability.sum()[i])/\n",
    "          msoa_listings_Jun.groupby('Subregion').has_availability.sum()[i]*100,2))"
   ]
  },
  {
   "cell_type": "code",
   "execution_count": 37,
   "id": "b94d9372-fb89-438b-8567-f40e586b4f63",
   "metadata": {},
   "outputs": [
    {
     "name": "stdout",
     "output_type": "stream",
     "text": [
      "3.79\n",
      "6.54\n",
      "6.1\n",
      "4.09\n",
      "4.77\n"
     ]
    }
   ],
   "source": [
    "# Compute the growth rate of listings available from Mar to Sep 2022 in every region\n",
    "for i in area:\n",
    "    print(round((msoa_listings_Sep.groupby('Subregion').has_availability.sum()[i]-msoa_listings_Mar.groupby('Subregion').has_availability.sum()[i])/\n",
    "          msoa_listings_Mar.groupby('Subregion').has_availability.sum()[i]*100,2))"
   ]
  },
  {
   "cell_type": "code",
   "execution_count": 38,
   "id": "47825b1e-24b3-44a9-903b-7b9ab2ff26dc",
   "metadata": {},
   "outputs": [
    {
     "name": "stdout",
     "output_type": "stream",
     "text": [
      "-1.52\n",
      "5.67\n"
     ]
    }
   ],
   "source": [
    "# Compute the growth rate of listings which has more than 30 reservations in London\n",
    "print(round((msoa_listings_Sep.reservation[msoa_listings_Sep.reservation>30].count()-\n",
    "             msoa_listings_Jun.reservation[msoa_listings_Jun.reservation>30].count())/\n",
    "             msoa_listings_Jun.reservation[msoa_listings_Jun.reservation>30].count()*100,2))\n",
    "\n",
    "print(round((msoa_listings_Sep.reservation[msoa_listings_Sep.reservation>30].count()-\n",
    "             msoa_listings_Mar.reservation[msoa_listings_Mar.reservation>30].count())/\n",
    "             msoa_listings_Mar.reservation[msoa_listings_Mar.reservation>30].count()*100,2))"
   ]
  },
  {
   "cell_type": "code",
   "execution_count": 39,
   "id": "bc79a7f2-3243-46d0-94ef-4972ca2f776b",
   "metadata": {},
   "outputs": [
    {
     "name": "stdout",
     "output_type": "stream",
     "text": [
      "-0.01\n",
      "4.13\n",
      "-3.93\n",
      "4.0\n",
      "-0.68\n",
      "14.47\n",
      "-1.04\n",
      "11.12\n",
      "-0.44\n",
      "10.47\n"
     ]
    }
   ],
   "source": [
    "# Compute the growth rate of listings which has more than 30 reservations in every region\n",
    "for i in area:\n",
    "    print(round((msoa_listings_Sep[msoa_listings_Sep.Subregion==i].reservation[msoa_listings_Sep.reservation>30].count()-\n",
    "          msoa_listings_Jun[msoa_listings_Jun.Subregion==i].reservation[msoa_listings_Jun.reservation>30].count())/\n",
    "          msoa_listings_Jun[msoa_listings_Jun.Subregion==i].reservation[msoa_listings_Jun.reservation>30].count()*100,2))\n",
    "          \n",
    "    print(round((msoa_listings_Sep[msoa_listings_Sep.Subregion==i].reservation[msoa_listings_Sep.reservation>30].count()-\n",
    "          msoa_listings_Mar[msoa_listings_Mar.Subregion==i].reservation[msoa_listings_Mar.reservation>30].count())/\n",
    "          msoa_listings_Mar[msoa_listings_Mar.Subregion==i].reservation[msoa_listings_Mar.reservation>30].count()*100,2))"
   ]
  },
  {
   "cell_type": "code",
   "execution_count": null,
   "id": "3e7f1f99-dcc3-42c9-9bce-2ab318568782",
   "metadata": {},
   "outputs": [],
   "source": [
    "print(\"start from here\")"
   ]
  },
  {
   "cell_type": "code",
   "execution_count": null,
   "id": "d4c4cbb8-c3b2-4bcc-b622-0f78ad20421d",
   "metadata": {},
   "outputs": [],
   "source": [
    "### ucfnjin code:"
   ]
  },
  {
   "cell_type": "code",
   "execution_count": null,
   "id": "80ecd509-53ac-4481-8040-3be4d326c092",
   "metadata": {},
   "outputs": [],
   "source": [
    "print(\"start from here\")"
   ]
  }
 ],
 "metadata": {
  "kernelspec": {
   "display_name": "Python 3 (ipykernel)",
   "language": "python",
   "name": "python3"
  },
  "language_info": {
   "codemirror_mode": {
    "name": "ipython",
    "version": 3
   },
   "file_extension": ".py",
   "mimetype": "text/x-python",
   "name": "python",
   "nbconvert_exporter": "python",
   "pygments_lexer": "ipython3",
   "version": "3.10.5"
  }
 },
 "nbformat": 4,
 "nbformat_minor": 5
}
